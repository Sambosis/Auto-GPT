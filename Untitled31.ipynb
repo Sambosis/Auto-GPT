{
  "nbformat": 4,
  "nbformat_minor": 0,
  "metadata": {
    "colab": {
      "private_outputs": true,
      "provenance": [],
      "toc_visible": true,
      "machine_shape": "hm",
      "mount_file_id": "1O57Ej7hVMhXcWDgE4A7tMMpYPI8640aS",
      "authorship_tag": "ABX9TyOc3nebRabS2pTO1MiEAHHG",
      "include_colab_link": true
    },
    "kernelspec": {
      "name": "python3",
      "display_name": "Python 3"
    },
    "language_info": {
      "name": "python"
    },
    "gpuClass": "standard"
  },
  "cells": [
    {
      "cell_type": "markdown",
      "metadata": {
        "id": "view-in-github",
        "colab_type": "text"
      },
      "source": [
        "<a href=\"https://colab.research.google.com/github/Sambosis/Auto-GPT/blob/master/Untitled31.ipynb\" target=\"_parent\"><img src=\"https://colab.research.google.com/assets/colab-badge.svg\" alt=\"Open In Colab\"/></a>"
      ]
    },
    {
      "cell_type": "code",
      "execution_count": null,
      "metadata": {
        "id": "In8wOhML19GZ"
      },
      "outputs": [],
      "source": [
        "\n",
        "!git clone https://github.com/Significant-Gravitas/Auto-GPT -b stable --single-branch\n",
        "%cd Auto-GPT\n",
        "!pip install -r requirements.txt\n"
      ]
    },
    {
      "cell_type": "code",
      "source": [
        "from selenium import webdriver \n",
        "from selenium.webdriver.chrome.options import Options \n",
        "options = Options() \n",
        "options.binary_location = \"/usr/bin/chromium-browser\" \n",
        "driver = webdriver.Chrome(options=options)"
      ],
      "metadata": {
        "id": "YtTaMP_6S3UT"
      },
      "execution_count": null,
      "outputs": []
    },
    {
      "cell_type": "code",
      "source": [
        "!apt-get update\n",
        "!apt install firefox\n"
      ],
      "metadata": {
        "id": "_jzIQ1J5Tntr"
      },
      "execution_count": null,
      "outputs": []
    },
    {
      "cell_type": "code",
      "source": [
        "#@title??\n",
        "memory = \"pinecone\" #@param [\"local\", \"pinecone\"]\n",
        "gpt_version = \"--gpt4only\" #@param [\" \", \"--gpt3only\", \"--gpt4only\"]\n",
        "browser = \"firefox\" #@param [\"firefox\", \"chrome\"]\n",
        "!python -m autogpt --use-memory {memory} {gpt_version} --browser-name {browser}"
      ],
      "metadata": {
        "id": "oYLnAvSb2n-u"
      },
      "execution_count": null,
      "outputs": []
    }
  ]
}